{
 "cells": [
  {
   "cell_type": "code",
   "execution_count": 3,
   "metadata": {},
   "outputs": [],
   "source": [
    "import numpy as np\n",
    "import requests\n",
    "import pandas as pd\n",
    "from urllib.request import urlopen\n",
    "from bs4 import BeautifulSoup\n",
    "import csv"
   ]
  },
  {
   "cell_type": "code",
   "execution_count": 8,
   "metadata": {
    "collapsed": true
   },
   "outputs": [],
   "source": [
    "#https://fx-rate.net/historical/?c_input=USD&cp_input=CNY&date_to_input=2017-04-11&range_input=30\n",
    "page_start = \"https://fx-rate.net/historical/?c_input=USD&cp_input=CNY&date_to_input=\"\n",
    "page_end = \"&range_input=30\"\n",
    "page_numbers = [\"2017-04-11\",'2017-03-11','2017-02-11','2017-01-11','2016-12-11','2016-11-11','2016-10-11','2016-09-11'\n",
    "               ,'2016-08-11','2016-07-11','2016-06-11','2016-05-11','2016-04-11','2016-03-11','2016-02-11','2016-01-11'\n",
    "               ,'2015-12-11','2015-11-11','2015-10-11','2015-09-11','2015-08-11','2015-07-11','2015-06-11','2015-05-11'\n",
    "               ,'2015-04-11','2015-03-11','2015-02-11','2015-01-11','2014-12-11','2014-11-11','2014-10-11','2014-09-11'\n",
    "               ,'2014-08-11','2014-07-11','2014-06-11','2014-05-11','2014-04-11']"
   ]
  },
  {
   "cell_type": "code",
   "execution_count": 9,
   "metadata": {},
   "outputs": [
    {
     "name": "stdout",
     "output_type": "stream",
     "text": [
      "['https://fx-rate.net/historical/?c_input=USD&cp_input=CNY&date_to_input=2017-04-11&range_input=30', 'https://fx-rate.net/historical/?c_input=USD&cp_input=CNY&date_to_input=2017-03-11&range_input=30', 'https://fx-rate.net/historical/?c_input=USD&cp_input=CNY&date_to_input=2017-02-11&range_input=30', 'https://fx-rate.net/historical/?c_input=USD&cp_input=CNY&date_to_input=2017-01-11&range_input=30', 'https://fx-rate.net/historical/?c_input=USD&cp_input=CNY&date_to_input=2016-12-11&range_input=30', 'https://fx-rate.net/historical/?c_input=USD&cp_input=CNY&date_to_input=2016-11-11&range_input=30', 'https://fx-rate.net/historical/?c_input=USD&cp_input=CNY&date_to_input=2016-10-11&range_input=30', 'https://fx-rate.net/historical/?c_input=USD&cp_input=CNY&date_to_input=2016-09-11&range_input=30', 'https://fx-rate.net/historical/?c_input=USD&cp_input=CNY&date_to_input=2016-08-11&range_input=30', 'https://fx-rate.net/historical/?c_input=USD&cp_input=CNY&date_to_input=2016-07-11&range_input=30', 'https://fx-rate.net/historical/?c_input=USD&cp_input=CNY&date_to_input=2016-06-11&range_input=30', 'https://fx-rate.net/historical/?c_input=USD&cp_input=CNY&date_to_input=2016-05-11&range_input=30', 'https://fx-rate.net/historical/?c_input=USD&cp_input=CNY&date_to_input=2016-04-11&range_input=30', 'https://fx-rate.net/historical/?c_input=USD&cp_input=CNY&date_to_input=2016-03-11&range_input=30', 'https://fx-rate.net/historical/?c_input=USD&cp_input=CNY&date_to_input=2016-02-11&range_input=30', 'https://fx-rate.net/historical/?c_input=USD&cp_input=CNY&date_to_input=2016-01-11&range_input=30', 'https://fx-rate.net/historical/?c_input=USD&cp_input=CNY&date_to_input=2015-12-11&range_input=30', 'https://fx-rate.net/historical/?c_input=USD&cp_input=CNY&date_to_input=2015-11-11&range_input=30', 'https://fx-rate.net/historical/?c_input=USD&cp_input=CNY&date_to_input=2015-10-11&range_input=30', 'https://fx-rate.net/historical/?c_input=USD&cp_input=CNY&date_to_input=2015-09-11&range_input=30', 'https://fx-rate.net/historical/?c_input=USD&cp_input=CNY&date_to_input=2015-08-11&range_input=30', 'https://fx-rate.net/historical/?c_input=USD&cp_input=CNY&date_to_input=2015-07-11&range_input=30', 'https://fx-rate.net/historical/?c_input=USD&cp_input=CNY&date_to_input=2015-06-11&range_input=30', 'https://fx-rate.net/historical/?c_input=USD&cp_input=CNY&date_to_input=2015-05-11&range_input=30', 'https://fx-rate.net/historical/?c_input=USD&cp_input=CNY&date_to_input=2015-04-11&range_input=30', 'https://fx-rate.net/historical/?c_input=USD&cp_input=CNY&date_to_input=2015-03-11&range_input=30', 'https://fx-rate.net/historical/?c_input=USD&cp_input=CNY&date_to_input=2015-02-11&range_input=30', 'https://fx-rate.net/historical/?c_input=USD&cp_input=CNY&date_to_input=2015-01-11&range_input=30', 'https://fx-rate.net/historical/?c_input=USD&cp_input=CNY&date_to_input=2014-12-11&range_input=30', 'https://fx-rate.net/historical/?c_input=USD&cp_input=CNY&date_to_input=2014-11-11&range_input=30', 'https://fx-rate.net/historical/?c_input=USD&cp_input=CNY&date_to_input=2014-10-11&range_input=30', 'https://fx-rate.net/historical/?c_input=USD&cp_input=CNY&date_to_input=2014-09-11&range_input=30', 'https://fx-rate.net/historical/?c_input=USD&cp_input=CNY&date_to_input=2014-08-11&range_input=30', 'https://fx-rate.net/historical/?c_input=USD&cp_input=CNY&date_to_input=2014-07-11&range_input=30', 'https://fx-rate.net/historical/?c_input=USD&cp_input=CNY&date_to_input=2014-06-11&range_input=30', 'https://fx-rate.net/historical/?c_input=USD&cp_input=CNY&date_to_input=2014-05-11&range_input=30', 'https://fx-rate.net/historical/?c_input=USD&cp_input=CNY&date_to_input=2014-04-11&range_input=30']\n"
     ]
    }
   ],
   "source": [
    "pages = []\n",
    "for page_number in page_numbers:\n",
    "    x = page_start + str(page_number) + page_end\n",
    "    pages.append(x)\n",
    "print(pages)"
   ]
  },
  {
   "cell_type": "code",
   "execution_count": 11,
   "metadata": {
    "collapsed": true
   },
   "outputs": [],
   "source": [
    "a=[]\n",
    "for page in pages:\n",
    "    link = requests.get(page)\n",
    "    soups = BeautifulSoup(link.content, \"html.parser\")\n",
    "    table = soups.findAll(\"tbody\") \n",
    "\n",
    "    \n",
    "    for i in table:\n",
    "        a.extend(i.findAll(\"tr\"))\n",
    "        x=i.findAll(\"tr\")\n",
    "\n",
    "\n",
    "   #C:\\Users\\sur\\Desktop\\Financial project \n",
    "csvFile = open(\"C:/Users/sur/Desktop/Financial project/USD_CNY.csv\", 'wt')\n",
    "writer = csv.writer(csvFile)\n",
    "try:\n",
    "    for row in a:\n",
    "        csvRow = []\n",
    "        for cell in row.findAll(['td', 'th']):\n",
    "            csvRow.append(cell.get_text())\n",
    "        writer.writerow(csvRow)\n",
    "finally:\n",
    "    csvFile.close()"
   ]
  },
  {
   "cell_type": "code",
   "execution_count": null,
   "metadata": {
    "collapsed": true
   },
   "outputs": [],
   "source": []
  }
 ],
 "metadata": {
  "kernelspec": {
   "display_name": "Python 3",
   "language": "python",
   "name": "python3"
  },
  "language_info": {
   "codemirror_mode": {
    "name": "ipython",
    "version": 3
   },
   "file_extension": ".py",
   "mimetype": "text/x-python",
   "name": "python",
   "nbconvert_exporter": "python",
   "pygments_lexer": "ipython3",
   "version": "3.6.3"
  }
 },
 "nbformat": 4,
 "nbformat_minor": 2
}
