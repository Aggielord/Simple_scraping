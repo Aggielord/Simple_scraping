{
 "cells": [
  {
   "cell_type": "code",
   "execution_count": 134,
   "metadata": {},
   "outputs": [],
   "source": [
    "import numpy as np\n",
    "import requests\n",
    "import pandas as pd\n",
    "from urllib.request import urlopen\n",
    "from bs4 import BeautifulSoup\n",
    "import csv\n",
    "import re"
   ]
  },
  {
   "cell_type": "code",
   "execution_count": 135,
   "metadata": {},
   "outputs": [],
   "source": [
    "page = \"http://ppmoe.dot.ca.gov/des/oe/weekly-ads/all-adv-projects.php\"\n",
    "    \n",
    "link = requests.get(page)\n",
    "soups = BeautifulSoup(link.content, \"html.parser\")\n",
    "table = soups.findAll(\"strong\") \n",
    "\n",
    "a=[]\n",
    "for i in table:\n",
    "    #print(str(i))\n",
    "    a.append(str(i))\n",
    "\n",
    "regex = re.compile('..........-...............')\n",
    "matches = [string for string in a if re.match(regex, string)]\n",
    "index = [word[8:17] for word in matches]"
   ]
  },
  {
   "cell_type": "code",
   "execution_count": 136,
   "metadata": {},
   "outputs": [],
   "source": [
    "page_start = \"http://ppmoe.dot.ca.gov/des/oe/weekly-ads/oe-biditems.php?q=\"\n",
    "page_ends = index\n",
    "\n",
    "pages = []\n",
    "proj = []\n",
    "for page_end in page_ends:\n",
    "    x = page_start  + str(page_end)\n",
    "    pages.append(x)\n",
    "    \n",
    "a=[]\n",
    "for num,page in enumerate(pages):\n",
    "    b=[]\n",
    "    link = requests.get(page)\n",
    "    soups = BeautifulSoup(link.content, \"html.parser\")\n",
    "    table = soups.findAll(\"tbody\") \n",
    "\n",
    "    \n",
    "    for i in table:\n",
    "        b.extend(i.findAll(\"tr\"))\n",
    "    proj.extend([index[num] for i in range(len(b))])\n",
    "    a.extend(b)\n",
    "    \n",
    "csvFile = open(\"C:/Users/fudf/Desktop/Construction_science/Data/weekly_ad.csv\", 'wt')\n",
    "writer = csv.writer(csvFile)\n",
    "count = 0\n",
    "try:\n",
    "    for row in a:\n",
    "        csvRow = []\n",
    "        for ind,cell in enumerate(row.findAll(['td', 'th'])):\n",
    "            csvRow.append(cell.get_text())\n",
    "        \n",
    "        csvRow.append(proj[count]) \n",
    "        count += 1\n",
    "        writer.writerow(csvRow)\n",
    "finally:\n",
    "    csvFile.close()"
   ]
  },
  {
   "cell_type": "code",
   "execution_count": null,
   "metadata": {},
   "outputs": [],
   "source": []
  }
 ],
 "metadata": {
  "kernelspec": {
   "display_name": "Python 3",
   "language": "python",
   "name": "python3"
  },
  "language_info": {
   "codemirror_mode": {
    "name": "ipython",
    "version": 3
   },
   "file_extension": ".py",
   "mimetype": "text/x-python",
   "name": "python",
   "nbconvert_exporter": "python",
   "pygments_lexer": "ipython3",
   "version": "3.6.5"
  }
 },
 "nbformat": 4,
 "nbformat_minor": 2
}
